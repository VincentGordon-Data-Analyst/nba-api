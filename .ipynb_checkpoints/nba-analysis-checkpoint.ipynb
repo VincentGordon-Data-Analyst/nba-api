{
 "cells": [
  {
   "cell_type": "code",
   "execution_count": 139,
   "metadata": {},
   "outputs": [],
   "source": [
    "import pandas as pd\n",
    "import seaborn as sns\n",
    "import matplotlib.pyplot as plt\n",
    "import datetime as dt\n",
    "import statistics\n",
    "import time\n",
    "\n",
    "# to ignore the warnings\n",
    "from warnings import filterwarnings"
   ]
  },
  {
   "cell_type": "code",
   "execution_count": 23,
   "metadata": {},
   "outputs": [
    {
     "data": {
      "text/html": [
       "<div>\n",
       "<style scoped>\n",
       "    .dataframe tbody tr th:only-of-type {\n",
       "        vertical-align: middle;\n",
       "    }\n",
       "\n",
       "    .dataframe tbody tr th {\n",
       "        vertical-align: top;\n",
       "    }\n",
       "\n",
       "    .dataframe thead th {\n",
       "        text-align: right;\n",
       "    }\n",
       "</style>\n",
       "<table border=\"1\" class=\"dataframe\">\n",
       "  <thead>\n",
       "    <tr style=\"text-align: right;\">\n",
       "      <th></th>\n",
       "      <th>date</th>\n",
       "      <th>visitor</th>\n",
       "      <th>home</th>\n",
       "      <th>visitor_points</th>\n",
       "      <th>home_points</th>\n",
       "    </tr>\n",
       "  </thead>\n",
       "  <tbody>\n",
       "    <tr>\n",
       "      <th>0</th>\n",
       "      <td>2015-11-25T01:00:00.000Z</td>\n",
       "      <td>Boston Celtics</td>\n",
       "      <td>Atlanta Hawks</td>\n",
       "      <td>97.0</td>\n",
       "      <td>121.0</td>\n",
       "    </tr>\n",
       "    <tr>\n",
       "      <th>1</th>\n",
       "      <td>2016-04-09T23:30:00.000Z</td>\n",
       "      <td>Boston Celtics</td>\n",
       "      <td>Atlanta Hawks</td>\n",
       "      <td>107.0</td>\n",
       "      <td>118.0</td>\n",
       "    </tr>\n",
       "    <tr>\n",
       "      <th>2</th>\n",
       "      <td>2016-04-16T23:00:00.000Z</td>\n",
       "      <td>Boston Celtics</td>\n",
       "      <td>Atlanta Hawks</td>\n",
       "      <td>101.0</td>\n",
       "      <td>102.0</td>\n",
       "    </tr>\n",
       "    <tr>\n",
       "      <th>3</th>\n",
       "      <td>2016-04-19T23:00:00.000Z</td>\n",
       "      <td>Boston Celtics</td>\n",
       "      <td>Atlanta Hawks</td>\n",
       "      <td>72.0</td>\n",
       "      <td>89.0</td>\n",
       "    </tr>\n",
       "    <tr>\n",
       "      <th>4</th>\n",
       "      <td>2016-04-27T00:30:00.000Z</td>\n",
       "      <td>Boston Celtics</td>\n",
       "      <td>Atlanta Hawks</td>\n",
       "      <td>83.0</td>\n",
       "      <td>110.0</td>\n",
       "    </tr>\n",
       "  </tbody>\n",
       "</table>\n",
       "</div>"
      ],
      "text/plain": [
       "                       date         visitor           home  visitor_points  \\\n",
       "0  2015-11-25T01:00:00.000Z  Boston Celtics  Atlanta Hawks            97.0   \n",
       "1  2016-04-09T23:30:00.000Z  Boston Celtics  Atlanta Hawks           107.0   \n",
       "2  2016-04-16T23:00:00.000Z  Boston Celtics  Atlanta Hawks           101.0   \n",
       "3  2016-04-19T23:00:00.000Z  Boston Celtics  Atlanta Hawks            72.0   \n",
       "4  2016-04-27T00:30:00.000Z  Boston Celtics  Atlanta Hawks            83.0   \n",
       "\n",
       "   home_points  \n",
       "0        121.0  \n",
       "1        118.0  \n",
       "2        102.0  \n",
       "3         89.0  \n",
       "4        110.0  "
      ]
     },
     "execution_count": 23,
     "metadata": {},
     "output_type": "execute_result"
    }
   ],
   "source": [
    "scores_df = pd.read_excel('./data/game_scores.xlsx')\n",
    "scores_df.head()"
   ]
  },
  {
   "cell_type": "code",
   "execution_count": 24,
   "metadata": {},
   "outputs": [
    {
     "name": "stdout",
     "output_type": "stream",
     "text": [
      "<class 'pandas.core.frame.DataFrame'>\n",
      "RangeIndex: 14242 entries, 0 to 14241\n",
      "Data columns (total 5 columns):\n",
      " #   Column          Non-Null Count  Dtype  \n",
      "---  ------          --------------  -----  \n",
      " 0   date            14242 non-null  object \n",
      " 1   visitor         14242 non-null  object \n",
      " 2   home            14242 non-null  object \n",
      " 3   visitor_points  12744 non-null  float64\n",
      " 4   home_points     12744 non-null  float64\n",
      "dtypes: float64(2), object(3)\n",
      "memory usage: 556.5+ KB\n"
     ]
    }
   ],
   "source": [
    "scores_df.info()"
   ]
  },
  {
   "cell_type": "code",
   "execution_count": 25,
   "metadata": {},
   "outputs": [
    {
     "data": {
      "text/plain": [
       "date                 0\n",
       "visitor              0\n",
       "home                 0\n",
       "visitor_points    1498\n",
       "home_points       1498\n",
       "dtype: int64"
      ]
     },
     "execution_count": 25,
     "metadata": {},
     "output_type": "execute_result"
    }
   ],
   "source": [
    "# Find columns and total null values\n",
    "scores_df.isnull().sum()"
   ]
  },
  {
   "cell_type": "code",
   "execution_count": 26,
   "metadata": {},
   "outputs": [
    {
     "data": {
      "text/plain": [
       "date              datetime64[ns, UTC]\n",
       "visitor                        object\n",
       "home                           object\n",
       "visitor_points                float64\n",
       "home_points                   float64\n",
       "dtype: object"
      ]
     },
     "execution_count": 26,
     "metadata": {},
     "output_type": "execute_result"
    }
   ],
   "source": [
    "# Convert date object to datetime data type\n",
    "scores_df['date'] = pd.to_datetime(scores_df['date'], errors='coerce')\n",
    "scores_df.dtypes"
   ]
  },
  {
   "cell_type": "code",
   "execution_count": 27,
   "metadata": {},
   "outputs": [
    {
     "data": {
      "text/html": [
       "<div>\n",
       "<style scoped>\n",
       "    .dataframe tbody tr th:only-of-type {\n",
       "        vertical-align: middle;\n",
       "    }\n",
       "\n",
       "    .dataframe tbody tr th {\n",
       "        vertical-align: top;\n",
       "    }\n",
       "\n",
       "    .dataframe thead th {\n",
       "        text-align: right;\n",
       "    }\n",
       "</style>\n",
       "<table border=\"1\" class=\"dataframe\">\n",
       "  <thead>\n",
       "    <tr style=\"text-align: right;\">\n",
       "      <th></th>\n",
       "      <th>date</th>\n",
       "      <th>visitor</th>\n",
       "      <th>home</th>\n",
       "      <th>visitor_points</th>\n",
       "      <th>home_points</th>\n",
       "    </tr>\n",
       "  </thead>\n",
       "  <tbody>\n",
       "    <tr>\n",
       "      <th>23</th>\n",
       "      <td>2024-11-05 00:45:00+00:00</td>\n",
       "      <td>Boston Celtics</td>\n",
       "      <td>Atlanta Hawks</td>\n",
       "      <td>NaN</td>\n",
       "      <td>NaN</td>\n",
       "    </tr>\n",
       "    <tr>\n",
       "      <th>46</th>\n",
       "      <td>2024-11-13 00:00:00+00:00</td>\n",
       "      <td>Atlanta Hawks</td>\n",
       "      <td>Boston Celtics</td>\n",
       "      <td>NaN</td>\n",
       "      <td>NaN</td>\n",
       "    </tr>\n",
       "    <tr>\n",
       "      <th>47</th>\n",
       "      <td>2025-01-19 00:00:00+00:00</td>\n",
       "      <td>Atlanta Hawks</td>\n",
       "      <td>Boston Celtics</td>\n",
       "      <td>NaN</td>\n",
       "      <td>NaN</td>\n",
       "    </tr>\n",
       "    <tr>\n",
       "      <th>82</th>\n",
       "      <td>2025-03-16 22:00:00+00:00</td>\n",
       "      <td>Atlanta Hawks</td>\n",
       "      <td>Brooklyn Nets</td>\n",
       "      <td>NaN</td>\n",
       "      <td>NaN</td>\n",
       "    </tr>\n",
       "    <tr>\n",
       "      <th>83</th>\n",
       "      <td>2025-04-10 23:30:00+00:00</td>\n",
       "      <td>Atlanta Hawks</td>\n",
       "      <td>Brooklyn Nets</td>\n",
       "      <td>NaN</td>\n",
       "      <td>NaN</td>\n",
       "    </tr>\n",
       "    <tr>\n",
       "      <th>...</th>\n",
       "      <td>...</td>\n",
       "      <td>...</td>\n",
       "      <td>...</td>\n",
       "      <td>...</td>\n",
       "      <td>...</td>\n",
       "    </tr>\n",
       "    <tr>\n",
       "      <th>14210</th>\n",
       "      <td>NaT</td>\n",
       "      <td>Toronto Raptors</td>\n",
       "      <td>Washington Wizards</td>\n",
       "      <td>NaN</td>\n",
       "      <td>NaN</td>\n",
       "    </tr>\n",
       "    <tr>\n",
       "      <th>14220</th>\n",
       "      <td>2025-01-30 00:00:00+00:00</td>\n",
       "      <td>Toronto Raptors</td>\n",
       "      <td>Washington Wizards</td>\n",
       "      <td>NaN</td>\n",
       "      <td>NaN</td>\n",
       "    </tr>\n",
       "    <tr>\n",
       "      <th>14221</th>\n",
       "      <td>2025-03-24 23:00:00+00:00</td>\n",
       "      <td>Toronto Raptors</td>\n",
       "      <td>Washington Wizards</td>\n",
       "      <td>NaN</td>\n",
       "      <td>NaN</td>\n",
       "    </tr>\n",
       "    <tr>\n",
       "      <th>14231</th>\n",
       "      <td>2025-03-06 00:00:00+00:00</td>\n",
       "      <td>Utah Jazz</td>\n",
       "      <td>Washington Wizards</td>\n",
       "      <td>NaN</td>\n",
       "      <td>NaN</td>\n",
       "    </tr>\n",
       "    <tr>\n",
       "      <th>14241</th>\n",
       "      <td>2025-01-24 02:00:00+00:00</td>\n",
       "      <td>Washington Wizards</td>\n",
       "      <td>Utah Jazz</td>\n",
       "      <td>NaN</td>\n",
       "      <td>NaN</td>\n",
       "    </tr>\n",
       "  </tbody>\n",
       "</table>\n",
       "<p>1498 rows × 5 columns</p>\n",
       "</div>"
      ],
      "text/plain": [
       "                           date             visitor                home  \\\n",
       "23    2024-11-05 00:45:00+00:00      Boston Celtics       Atlanta Hawks   \n",
       "46    2024-11-13 00:00:00+00:00       Atlanta Hawks      Boston Celtics   \n",
       "47    2025-01-19 00:00:00+00:00       Atlanta Hawks      Boston Celtics   \n",
       "82    2025-03-16 22:00:00+00:00       Atlanta Hawks       Brooklyn Nets   \n",
       "83    2025-04-10 23:30:00+00:00       Atlanta Hawks       Brooklyn Nets   \n",
       "...                         ...                 ...                 ...   \n",
       "14210                       NaT     Toronto Raptors  Washington Wizards   \n",
       "14220 2025-01-30 00:00:00+00:00     Toronto Raptors  Washington Wizards   \n",
       "14221 2025-03-24 23:00:00+00:00     Toronto Raptors  Washington Wizards   \n",
       "14231 2025-03-06 00:00:00+00:00           Utah Jazz  Washington Wizards   \n",
       "14241 2025-01-24 02:00:00+00:00  Washington Wizards           Utah Jazz   \n",
       "\n",
       "       visitor_points  home_points  \n",
       "23                NaN          NaN  \n",
       "46                NaN          NaN  \n",
       "47                NaN          NaN  \n",
       "82                NaN          NaN  \n",
       "83                NaN          NaN  \n",
       "...               ...          ...  \n",
       "14210             NaN          NaN  \n",
       "14220             NaN          NaN  \n",
       "14221             NaN          NaN  \n",
       "14231             NaN          NaN  \n",
       "14241             NaN          NaN  \n",
       "\n",
       "[1498 rows x 5 columns]"
      ]
     },
     "execution_count": 27,
     "metadata": {},
     "output_type": "execute_result"
    }
   ],
   "source": [
    "# Find rows that contain null values\n",
    "scores_df[scores_df['visitor_points'].isnull()]"
   ]
  },
  {
   "cell_type": "code",
   "execution_count": 29,
   "metadata": {},
   "outputs": [
    {
     "data": {
      "text/plain": [
       "date              0\n",
       "visitor           0\n",
       "home              0\n",
       "visitor_points    0\n",
       "home_points       0\n",
       "dtype: int64"
      ]
     },
     "execution_count": 29,
     "metadata": {},
     "output_type": "execute_result"
    }
   ],
   "source": [
    "# Drop all rows that have no points for either team\n",
    "df = scores_df.dropna()\n",
    "\n",
    "# Display\n",
    "df.isnull().sum()"
   ]
  },
  {
   "cell_type": "code",
   "execution_count": 30,
   "metadata": {},
   "outputs": [
    {
     "data": {
      "text/plain": [
       "['Boston Celtics',\n",
       " 'Atlanta Hawks',\n",
       " 'Brooklyn Nets',\n",
       " 'Charlotte Hornets',\n",
       " 'Chicago Bulls',\n",
       " 'Cleveland Cavaliers',\n",
       " 'Dallas Mavericks',\n",
       " 'Denver Nuggets',\n",
       " 'Detroit Pistons',\n",
       " 'Golden State Warriors',\n",
       " 'Houston Rockets',\n",
       " 'Indiana Pacers',\n",
       " 'LA Clippers',\n",
       " 'Los Angeles Lakers',\n",
       " 'Memphis Grizzlies',\n",
       " 'Miami Heat',\n",
       " 'Milwaukee Bucks',\n",
       " 'Minnesota Timberwolves',\n",
       " 'New Orleans Pelicans',\n",
       " 'New York Knicks',\n",
       " 'Oklahoma City Thunder',\n",
       " 'Orlando Magic',\n",
       " 'Philadelphia 76ers',\n",
       " 'Phoenix Suns',\n",
       " 'Portland Trail Blazers',\n",
       " 'Sacramento Kings',\n",
       " 'San Antonio Spurs',\n",
       " 'Toronto Raptors',\n",
       " 'Utah Jazz',\n",
       " 'Washington Wizards']"
      ]
     },
     "execution_count": 30,
     "metadata": {},
     "output_type": "execute_result"
    }
   ],
   "source": [
    "teams = [team for team in df['visitor'].unique()]\n",
    "teams\n",
    "    "
   ]
  },
  {
   "cell_type": "markdown",
   "metadata": {},
   "source": [
    "# Betting Analysis"
   ]
  },
  {
   "cell_type": "code",
   "execution_count": null,
   "metadata": {},
   "outputs": [],
   "source": [
    "def possible_outcome(dataframe, away_team, home_team, first_line, lower_bound, upper_bound): \n",
    "    # Filter the dataframe for the specific matchup\n",
    "    matchup_game = dataframe.loc[(dataframe['visitor'] == away_team) & (dataframe['home'] == home_team)].copy()\n",
    "    \n",
    "    # Add a 'total_points' column \n",
    "    matchup_game['total_points'] = matchup_game['visitor_points'] + matchup_game['home_points']\n",
    "    \n",
    "    # Determine the winner\n",
    "    matchup_game['winner'] = matchup_game.apply(lambda row: home_team if row['home_points'] > row['visitor_points']  else away_team, axis=1)\n",
    "    \n",
    "    # Create side-by-side plots\n",
    "    fig, axes = plt.subplots(1, 2, figsize=(14, 6))\n",
    "      \n",
    "    # Plot total points distribution with a KDE\n",
    "    sns.histplot(data=matchup_game, x='total_points', bins=10, kde=True, ax=axes[0], color=\"skyblue\")\n",
    "    axes[0].set_title(f'Total Points Distribution for {away_team} vs {home_team}')\n",
    "    \n",
    "    # Plot the winner count    \n",
    "    sns.countplot(data=matchup_game, x='winner', ax=axes[1], palette='Set2')\n",
    "    axes[1].set_title(f'Winner Counts: {away_team} vs {home_team}')\n",
    "        \n",
    "    # Display the plots\n",
    "    plt.show()\n",
    "    \n",
    "     # Calculate a z-score from a provided mean and standard deviation\n",
    "    mean = matchup_game['total_points'].mean()\n",
    "    standard_deviation = matchup_game['total_points'].std()\n",
    "   \n",
    "    # Create array of UNDER/OVER values starting with given first line\n",
    "    under_over_lines = [first_line + i for i in range(15)]\n",
    "    \n",
    "    # Display basic statics of team matchup\n",
    "    print(f'Statistics of {away_team} vs {home_team}')\n",
    "    print('\\n')\n",
    "    print(f'Mean: {mean}')\n",
    "    print(f'Standard Deviation: {standard_deviation}')\n",
    "\n",
    "    print('------------------------------------')\n",
    "    # Display the z-scores for each line score\n",
    "    for line in under_over_lines:\n",
    "        zscore = statistics.NormalDist(mean, standard_deviation).zscore(line)\n",
    "        print(f'z-score for {line}: {zscore:.2f}')\n",
    "\n",
    "    print('------------------------------------')\n",
    "\n",
    "    # Find percentage of games between specified range\n",
    "    total_games = len(matchup_game)\n",
    "    games_in_range = matchup_game[(matchup_game['total_points'] >= lower_bound) & (matchup_game['total_points'] <= upper_bound)]\n",
    "    percentage = (len(games_in_range) / total_games) * 100\n",
    "    print(f\"Percentage of games with total scores between {lower_bound} and {upper_bound}: {percentage:.2f}%\")\n",
    "    print('------------------------------------')\n",
    "    \n",
    "    return matchup_game\n",
    "\n",
    "away_team = input(\"Enter the away team: \")\n",
    "home_team = input(\"Enter the home team: \")\n",
    "first_line = float(input(\"Enter the first line for the over/under bet: \"))\n",
    "lower_bound = float(input(\"Enter the lower range: \"))\n",
    "upper_bound = float(input(\"Enter the upper range: \"))\n",
    "\n",
    "possible_outcome(df, away_team, home_team, first_line, lower_bound, upper_bound)"
   ]
  }
 ],
 "metadata": {
  "kernelspec": {
   "display_name": "Python 3 (ipykernel)",
   "language": "python",
   "name": "python3"
  },
  "language_info": {
   "codemirror_mode": {
    "name": "ipython",
    "version": 3
   },
   "file_extension": ".py",
   "mimetype": "text/x-python",
   "name": "python",
   "nbconvert_exporter": "python",
   "pygments_lexer": "ipython3",
   "version": "3.12.4"
  }
 },
 "nbformat": 4,
 "nbformat_minor": 4
}

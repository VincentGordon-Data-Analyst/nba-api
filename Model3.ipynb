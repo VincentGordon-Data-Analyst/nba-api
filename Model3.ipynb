{
 "cells": [
  {
   "cell_type": "code",
   "execution_count": 33,
   "metadata": {},
   "outputs": [],
   "source": [
    "import pandas as pd\n",
    "import matplotlib.pyplot as plt\n",
    "import seaborn as sns\n",
    "import datetime as dt\n",
    "import numpy as np\n",
    "\n",
    "# to ignore the warnings\n",
    "from warnings import filterwarnings"
   ]
  },
  {
   "cell_type": "code",
   "execution_count": 34,
   "metadata": {},
   "outputs": [
    {
     "name": "stdout",
     "output_type": "stream",
     "text": [
      "<class 'pandas.core.frame.DataFrame'>\n",
      "RangeIndex: 9510 entries, 0 to 9509\n",
      "Data columns (total 60 columns):\n",
      " #   Column                   Non-Null Count  Dtype  \n",
      "---  ------                   --------------  -----  \n",
      " 0   home_team                9510 non-null   object \n",
      " 1   visitor_team             9510 non-null   object \n",
      " 2   visitor_points           9510 non-null   float64\n",
      " 3   visitor_fgm              9510 non-null   float64\n",
      " 4   visitor_fga              9510 non-null   float64\n",
      " 5   visitor_fgp              9510 non-null   float64\n",
      " 6   visitor_ftm              9510 non-null   float64\n",
      " 7   visitor_fta              9510 non-null   float64\n",
      " 8   visitor_ftp              9510 non-null   float64\n",
      " 9   visitor_tpm              9510 non-null   float64\n",
      " 10  visitor_tpa              9510 non-null   float64\n",
      " 11  visitor_tpp              9510 non-null   float64\n",
      " 12  visitor_offReb           9510 non-null   float64\n",
      " 13  visitor_defReb           9510 non-null   float64\n",
      " 14  visitor_totReb           9510 non-null   float64\n",
      " 15  visitor_assists          9510 non-null   float64\n",
      " 16  visitor_pFouls           9510 non-null   float64\n",
      " 17  visitor_steals           9510 non-null   float64\n",
      " 18  visitor_turnovers        9510 non-null   float64\n",
      " 19  visitor_blocks           9510 non-null   float64\n",
      " 20  home_points              9510 non-null   float64\n",
      " 21  home_fgm                 9510 non-null   float64\n",
      " 22  home_fga                 9510 non-null   float64\n",
      " 23  home_fgp                 9510 non-null   float64\n",
      " 24  home_ftm                 9510 non-null   float64\n",
      " 25  home_fta                 9510 non-null   float64\n",
      " 26  home_ftp                 9510 non-null   float64\n",
      " 27  home_tpm                 9510 non-null   float64\n",
      " 28  home_tpa                 9510 non-null   float64\n",
      " 29  home_tpp                 9510 non-null   float64\n",
      " 30  home_offReb              9510 non-null   float64\n",
      " 31  home_defReb              9510 non-null   float64\n",
      " 32  home_totReb              9510 non-null   float64\n",
      " 33  home_assists             9510 non-null   float64\n",
      " 34  home_pFouls              9510 non-null   float64\n",
      " 35  home_steals              9510 non-null   float64\n",
      " 36  home_turnovers           9510 non-null   float64\n",
      " 37  home_blocks              9510 non-null   float64\n",
      " 38  visitor_drb%             9509 non-null   float64\n",
      " 39  home_drb%                9509 non-null   float64\n",
      " 40  visitor_orb%             9509 non-null   float64\n",
      " 41  home_orb%                9509 non-null   float64\n",
      " 42  visitor_fta_rate         9509 non-null   float64\n",
      " 43  home_fta_rate            9509 non-null   float64\n",
      " 44  visitor_possessions      9510 non-null   float64\n",
      " 45  home_possessions         9510 non-null   float64\n",
      " 46  visitor_to%              9509 non-null   float64\n",
      " 47  home_to%                 9509 non-null   float64\n",
      " 48  visitor_ORtg             9510 non-null   float64\n",
      " 49  home_ORtg                9510 non-null   float64\n",
      " 50  visitor_DRtg             9510 non-null   float64\n",
      " 51  home_DRtg                9510 non-null   float64\n",
      " 52  visitor_turn_over_ratio  9509 non-null   float64\n",
      " 53  home_turn_over_ratio     9509 non-null   float64\n",
      " 54  visitor_efg%             9509 non-null   float64\n",
      " 55  home_efg%                9509 non-null   float64\n",
      " 56  visitor_ts%              9510 non-null   float64\n",
      " 57  home_ts%                 9510 non-null   float64\n",
      " 58  home_win                 9510 non-null   int64  \n",
      " 59  total_points             9510 non-null   float64\n",
      "dtypes: float64(57), int64(1), object(2)\n",
      "memory usage: 4.4+ MB\n"
     ]
    }
   ],
   "source": [
    "total_df = pd.read_csv('./data/totalPredict_ML3.csv')\n",
    "total_df.info()"
   ]
  },
  {
   "cell_type": "code",
   "execution_count": 35,
   "metadata": {},
   "outputs": [
    {
     "data": {
      "text/plain": [
       "home_team                  0\n",
       "visitor_team               0\n",
       "visitor_points             0\n",
       "visitor_fgm                0\n",
       "visitor_fga                0\n",
       "visitor_fgp                0\n",
       "visitor_ftm                0\n",
       "visitor_fta                0\n",
       "visitor_ftp                0\n",
       "visitor_tpm                0\n",
       "visitor_tpa                0\n",
       "visitor_tpp                0\n",
       "visitor_offReb             0\n",
       "visitor_defReb             0\n",
       "visitor_totReb             0\n",
       "visitor_assists            0\n",
       "visitor_pFouls             0\n",
       "visitor_steals             0\n",
       "visitor_turnovers          0\n",
       "visitor_blocks             0\n",
       "home_points                0\n",
       "home_fgm                   0\n",
       "home_fga                   0\n",
       "home_fgp                   0\n",
       "home_ftm                   0\n",
       "home_fta                   0\n",
       "home_ftp                   0\n",
       "home_tpm                   0\n",
       "home_tpa                   0\n",
       "home_tpp                   0\n",
       "home_offReb                0\n",
       "home_defReb                0\n",
       "home_totReb                0\n",
       "home_assists               0\n",
       "home_pFouls                0\n",
       "home_steals                0\n",
       "home_turnovers             0\n",
       "home_blocks                0\n",
       "visitor_drb%               1\n",
       "home_drb%                  1\n",
       "visitor_orb%               1\n",
       "home_orb%                  1\n",
       "visitor_fta_rate           1\n",
       "home_fta_rate              1\n",
       "visitor_possessions        0\n",
       "home_possessions           0\n",
       "visitor_to%                1\n",
       "home_to%                   1\n",
       "visitor_ORtg               0\n",
       "home_ORtg                  0\n",
       "visitor_DRtg               0\n",
       "home_DRtg                  0\n",
       "visitor_turn_over_ratio    1\n",
       "home_turn_over_ratio       1\n",
       "visitor_efg%               1\n",
       "home_efg%                  1\n",
       "visitor_ts%                0\n",
       "home_ts%                   0\n",
       "home_win                   0\n",
       "total_points               0\n",
       "dtype: int64"
      ]
     },
     "execution_count": 35,
     "metadata": {},
     "output_type": "execute_result"
    }
   ],
   "source": [
    "total_df.isnull().sum()"
   ]
  },
  {
   "cell_type": "code",
   "execution_count": 36,
   "metadata": {},
   "outputs": [
    {
     "data": {
      "text/plain": [
       "(9510, 60)"
      ]
     },
     "execution_count": 36,
     "metadata": {},
     "output_type": "execute_result"
    }
   ],
   "source": [
    "total_df.shape"
   ]
  },
  {
   "cell_type": "code",
   "execution_count": 37,
   "metadata": {},
   "outputs": [],
   "source": [
    "winner_df = pd.read_csv('./data/winPredict_ML3.csv')\n"
   ]
  },
  {
   "cell_type": "code",
   "execution_count": 38,
   "metadata": {},
   "outputs": [
    {
     "name": "stdout",
     "output_type": "stream",
     "text": [
      "<class 'pandas.core.frame.DataFrame'>\n",
      "RangeIndex: 9510 entries, 0 to 9509\n",
      "Data columns (total 59 columns):\n",
      " #   Column                   Non-Null Count  Dtype  \n",
      "---  ------                   --------------  -----  \n",
      " 0   home_team                9510 non-null   object \n",
      " 1   visitor_team             9510 non-null   object \n",
      " 2   visitor_points           9510 non-null   float64\n",
      " 3   visitor_fgm              9510 non-null   float64\n",
      " 4   visitor_fga              9510 non-null   float64\n",
      " 5   visitor_fgp              9510 non-null   float64\n",
      " 6   visitor_ftm              9510 non-null   float64\n",
      " 7   visitor_fta              9510 non-null   float64\n",
      " 8   visitor_ftp              9510 non-null   float64\n",
      " 9   visitor_tpm              9510 non-null   float64\n",
      " 10  visitor_tpa              9510 non-null   float64\n",
      " 11  visitor_tpp              9510 non-null   float64\n",
      " 12  visitor_offReb           9510 non-null   float64\n",
      " 13  visitor_defReb           9510 non-null   float64\n",
      " 14  visitor_totReb           9510 non-null   float64\n",
      " 15  visitor_assists          9510 non-null   float64\n",
      " 16  visitor_pFouls           9510 non-null   float64\n",
      " 17  visitor_steals           9510 non-null   float64\n",
      " 18  visitor_turnovers        9510 non-null   float64\n",
      " 19  visitor_blocks           9510 non-null   float64\n",
      " 20  home_points              9510 non-null   float64\n",
      " 21  home_fgm                 9510 non-null   float64\n",
      " 22  home_fga                 9510 non-null   float64\n",
      " 23  home_fgp                 9510 non-null   float64\n",
      " 24  home_ftm                 9510 non-null   float64\n",
      " 25  home_fta                 9510 non-null   float64\n",
      " 26  home_ftp                 9510 non-null   float64\n",
      " 27  home_tpm                 9510 non-null   float64\n",
      " 28  home_tpa                 9510 non-null   float64\n",
      " 29  home_tpp                 9510 non-null   float64\n",
      " 30  home_offReb              9510 non-null   float64\n",
      " 31  home_defReb              9510 non-null   float64\n",
      " 32  home_totReb              9510 non-null   float64\n",
      " 33  home_assists             9510 non-null   float64\n",
      " 34  home_pFouls              9510 non-null   float64\n",
      " 35  home_steals              9510 non-null   float64\n",
      " 36  home_turnovers           9510 non-null   float64\n",
      " 37  home_blocks              9510 non-null   float64\n",
      " 38  visitor_drb%             9509 non-null   float64\n",
      " 39  home_drb%                9509 non-null   float64\n",
      " 40  visitor_orb%             9509 non-null   float64\n",
      " 41  home_orb%                9509 non-null   float64\n",
      " 42  visitor_fta_rate         9509 non-null   float64\n",
      " 43  home_fta_rate            9509 non-null   float64\n",
      " 44  visitor_possessions      9510 non-null   float64\n",
      " 45  home_possessions         9510 non-null   float64\n",
      " 46  visitor_to%              9509 non-null   float64\n",
      " 47  home_to%                 9509 non-null   float64\n",
      " 48  home_ORtg                9510 non-null   float64\n",
      " 49  visitor_DRtg             9510 non-null   float64\n",
      " 50  home_DRtg                9510 non-null   float64\n",
      " 51  visitor_turn_over_ratio  9509 non-null   float64\n",
      " 52  home_turn_over_ratio     9509 non-null   float64\n",
      " 53  visitor_efg%             9509 non-null   float64\n",
      " 54  home_efg%                9509 non-null   float64\n",
      " 55  visitor_ts%              9510 non-null   float64\n",
      " 56  home_ts%                 9510 non-null   float64\n",
      " 57  home_win                 9510 non-null   int64  \n",
      " 58  total_points             9510 non-null   float64\n",
      "dtypes: float64(56), int64(1), object(2)\n",
      "memory usage: 4.3+ MB\n"
     ]
    }
   ],
   "source": [
    "winner_df.info()"
   ]
  },
  {
   "cell_type": "code",
   "execution_count": 39,
   "metadata": {},
   "outputs": [
    {
     "data": {
      "text/plain": [
       "(9510, 59)"
      ]
     },
     "execution_count": 39,
     "metadata": {},
     "output_type": "execute_result"
    }
   ],
   "source": [
    "winner_df.shape"
   ]
  },
  {
   "cell_type": "code",
   "execution_count": 61,
   "metadata": {},
   "outputs": [
    {
     "data": {
      "text/html": [
       "<div>\n",
       "<style scoped>\n",
       "    .dataframe tbody tr th:only-of-type {\n",
       "        vertical-align: middle;\n",
       "    }\n",
       "\n",
       "    .dataframe tbody tr th {\n",
       "        vertical-align: top;\n",
       "    }\n",
       "\n",
       "    .dataframe thead th {\n",
       "        text-align: right;\n",
       "    }\n",
       "</style>\n",
       "<table border=\"1\" class=\"dataframe\">\n",
       "  <thead>\n",
       "    <tr style=\"text-align: right;\">\n",
       "      <th></th>\n",
       "      <th>home_team</th>\n",
       "      <th>visitor_team</th>\n",
       "      <th>visitor_points</th>\n",
       "      <th>visitor_fgm</th>\n",
       "      <th>visitor_fga</th>\n",
       "      <th>visitor_fgp</th>\n",
       "      <th>visitor_ftm</th>\n",
       "      <th>visitor_fta</th>\n",
       "      <th>visitor_ftp</th>\n",
       "      <th>visitor_tpm</th>\n",
       "      <th>...</th>\n",
       "      <th>home_DRtg</th>\n",
       "      <th>visitor_turn_over_ratio</th>\n",
       "      <th>home_turn_over_ratio</th>\n",
       "      <th>visitor_efg%</th>\n",
       "      <th>home_efg%</th>\n",
       "      <th>visitor_ts%</th>\n",
       "      <th>home_ts%</th>\n",
       "      <th>home_win</th>\n",
       "      <th>total_points</th>\n",
       "      <th>is_home</th>\n",
       "    </tr>\n",
       "  </thead>\n",
       "  <tbody>\n",
       "    <tr>\n",
       "      <th>0</th>\n",
       "      <td>Houston Rockets</td>\n",
       "      <td>Los Angeles Lakers</td>\n",
       "      <td>142.0</td>\n",
       "      <td>53.0</td>\n",
       "      <td>105.0</td>\n",
       "      <td>0.505</td>\n",
       "      <td>26.0</td>\n",
       "      <td>37.0</td>\n",
       "      <td>0.703</td>\n",
       "      <td>10.0</td>\n",
       "      <td>...</td>\n",
       "      <td>119.167506</td>\n",
       "      <td>8.419533</td>\n",
       "      <td>6.741848</td>\n",
       "      <td>0.552381</td>\n",
       "      <td>0.547170</td>\n",
       "      <td>0.585422</td>\n",
       "      <td>0.600844</td>\n",
       "      <td>1</td>\n",
       "      <td>290.0</td>\n",
       "      <td>1</td>\n",
       "    </tr>\n",
       "    <tr>\n",
       "      <th>1</th>\n",
       "      <td>Sacramento Kings</td>\n",
       "      <td>Memphis Grizzlies</td>\n",
       "      <td>114.0</td>\n",
       "      <td>41.0</td>\n",
       "      <td>76.0</td>\n",
       "      <td>0.539</td>\n",
       "      <td>18.0</td>\n",
       "      <td>24.0</td>\n",
       "      <td>0.750</td>\n",
       "      <td>14.0</td>\n",
       "      <td>...</td>\n",
       "      <td>112.871287</td>\n",
       "      <td>12.845215</td>\n",
       "      <td>12.030075</td>\n",
       "      <td>0.631579</td>\n",
       "      <td>0.482558</td>\n",
       "      <td>0.658503</td>\n",
       "      <td>0.494845</td>\n",
       "      <td>0</td>\n",
       "      <td>210.0</td>\n",
       "      <td>1</td>\n",
       "    </tr>\n",
       "    <tr>\n",
       "      <th>2</th>\n",
       "      <td>LA Clippers</td>\n",
       "      <td>Charlotte Hornets</td>\n",
       "      <td>98.0</td>\n",
       "      <td>36.0</td>\n",
       "      <td>93.0</td>\n",
       "      <td>0.387</td>\n",
       "      <td>15.0</td>\n",
       "      <td>19.0</td>\n",
       "      <td>0.789</td>\n",
       "      <td>11.0</td>\n",
       "      <td>...</td>\n",
       "      <td>100.122599</td>\n",
       "      <td>12.026033</td>\n",
       "      <td>12.511730</td>\n",
       "      <td>0.446237</td>\n",
       "      <td>0.539474</td>\n",
       "      <td>0.483425</td>\n",
       "      <td>0.603095</td>\n",
       "      <td>1</td>\n",
       "      <td>204.0</td>\n",
       "      <td>1</td>\n",
       "    </tr>\n",
       "    <tr>\n",
       "      <th>3</th>\n",
       "      <td>Oklahoma City Thunder</td>\n",
       "      <td>Dallas Mavericks</td>\n",
       "      <td>116.0</td>\n",
       "      <td>46.0</td>\n",
       "      <td>89.0</td>\n",
       "      <td>0.517</td>\n",
       "      <td>9.0</td>\n",
       "      <td>14.0</td>\n",
       "      <td>0.643</td>\n",
       "      <td>15.0</td>\n",
       "      <td>...</td>\n",
       "      <td>117.029863</td>\n",
       "      <td>5.461923</td>\n",
       "      <td>8.585701</td>\n",
       "      <td>0.601124</td>\n",
       "      <td>0.539326</td>\n",
       "      <td>0.609500</td>\n",
       "      <td>0.570016</td>\n",
       "      <td>0</td>\n",
       "      <td>229.0</td>\n",
       "      <td>1</td>\n",
       "    </tr>\n",
       "    <tr>\n",
       "      <th>4</th>\n",
       "      <td>Phoenix Suns</td>\n",
       "      <td>Philadelphia 76ers</td>\n",
       "      <td>123.0</td>\n",
       "      <td>43.0</td>\n",
       "      <td>77.0</td>\n",
       "      <td>0.558</td>\n",
       "      <td>27.0</td>\n",
       "      <td>34.0</td>\n",
       "      <td>0.794</td>\n",
       "      <td>10.0</td>\n",
       "      <td>...</td>\n",
       "      <td>114.996260</td>\n",
       "      <td>15.332944</td>\n",
       "      <td>11.682243</td>\n",
       "      <td>0.623377</td>\n",
       "      <td>0.477273</td>\n",
       "      <td>0.668769</td>\n",
       "      <td>0.534188</td>\n",
       "      <td>0</td>\n",
       "      <td>233.0</td>\n",
       "      <td>1</td>\n",
       "    </tr>\n",
       "  </tbody>\n",
       "</table>\n",
       "<p>5 rows × 60 columns</p>\n",
       "</div>"
      ],
      "text/plain": [
       "               home_team        visitor_team  visitor_points  visitor_fgm  \\\n",
       "0        Houston Rockets  Los Angeles Lakers           142.0         53.0   \n",
       "1       Sacramento Kings   Memphis Grizzlies           114.0         41.0   \n",
       "2            LA Clippers   Charlotte Hornets            98.0         36.0   \n",
       "3  Oklahoma City Thunder    Dallas Mavericks           116.0         46.0   \n",
       "4           Phoenix Suns  Philadelphia 76ers           123.0         43.0   \n",
       "\n",
       "   visitor_fga  visitor_fgp  visitor_ftm  visitor_fta  visitor_ftp  \\\n",
       "0        105.0        0.505         26.0         37.0        0.703   \n",
       "1         76.0        0.539         18.0         24.0        0.750   \n",
       "2         93.0        0.387         15.0         19.0        0.789   \n",
       "3         89.0        0.517          9.0         14.0        0.643   \n",
       "4         77.0        0.558         27.0         34.0        0.794   \n",
       "\n",
       "   visitor_tpm  ...   home_DRtg  visitor_turn_over_ratio  \\\n",
       "0         10.0  ...  119.167506                 8.419533   \n",
       "1         14.0  ...  112.871287                12.845215   \n",
       "2         11.0  ...  100.122599                12.026033   \n",
       "3         15.0  ...  117.029863                 5.461923   \n",
       "4         10.0  ...  114.996260                15.332944   \n",
       "\n",
       "   home_turn_over_ratio  visitor_efg%  home_efg%  visitor_ts%  home_ts%  \\\n",
       "0              6.741848      0.552381   0.547170     0.585422  0.600844   \n",
       "1             12.030075      0.631579   0.482558     0.658503  0.494845   \n",
       "2             12.511730      0.446237   0.539474     0.483425  0.603095   \n",
       "3              8.585701      0.601124   0.539326     0.609500  0.570016   \n",
       "4             11.682243      0.623377   0.477273     0.668769  0.534188   \n",
       "\n",
       "   home_win  total_points  is_home  \n",
       "0         1         290.0        1  \n",
       "1         0         210.0        1  \n",
       "2         1         204.0        1  \n",
       "3         0         229.0        1  \n",
       "4         0         233.0        1  \n",
       "\n",
       "[5 rows x 60 columns]"
      ]
     },
     "execution_count": 61,
     "metadata": {},
     "output_type": "execute_result"
    }
   ],
   "source": [
    "# winner_df['is_home'] = (winner_df['home_team'] == winner_df['home_team']).astype(int)\n",
    "# winner_df.head()"
   ]
  },
  {
   "cell_type": "markdown",
   "metadata": {},
   "source": [
    "# One-Hot Encoding"
   ]
  },
  {
   "cell_type": "code",
   "execution_count": 40,
   "metadata": {},
   "outputs": [
    {
     "name": "stderr",
     "output_type": "stream",
     "text": [
      "C:\\Users\\User\\AppData\\Local\\Temp\\ipykernel_1316\\1442891978.py:6: FutureWarning: Downcasting behavior in `replace` is deprecated and will be removed in a future version. To retain the old behavior, explicitly call `result.infer_objects(copy=False)`. To opt-in to the future behavior, set `pd.set_option('future.no_silent_downcasting', True)`\n",
      "  new_total_df = encoded_total_df.replace({True: 1, False: 0})\n",
      "C:\\Users\\User\\AppData\\Local\\Temp\\ipykernel_1316\\1442891978.py:7: FutureWarning: Downcasting behavior in `replace` is deprecated and will be removed in a future version. To retain the old behavior, explicitly call `result.infer_objects(copy=False)`. To opt-in to the future behavior, set `pd.set_option('future.no_silent_downcasting', True)`\n",
      "  new_winner_df = encoded_winner_df.replace({True: 1, False: 0})\n"
     ]
    }
   ],
   "source": [
    "# Apply one-hot encoding to categorical columns\n",
    "encoded_total_df = pd.get_dummies(total_df, columns=['visitor_team', 'home_team'])\n",
    "encoded_winner_df = pd.get_dummies(winner_df, columns=['visitor_team', 'home_team'])\n",
    "\n",
    "# Covert booleans to integers\n",
    "new_total_df = encoded_total_df.replace({True: 1, False: 0})\n",
    "new_winner_df = encoded_winner_df.replace({True: 1, False: 0})"
   ]
  },
  {
   "cell_type": "code",
   "execution_count": 41,
   "metadata": {},
   "outputs": [],
   "source": [
    "new_winner_df = new_winner_df.dropna()\n",
    "new_total_df = new_total_df.dropna()"
   ]
  },
  {
   "cell_type": "code",
   "execution_count": 42,
   "metadata": {},
   "outputs": [
    {
     "name": "stdout",
     "output_type": "stream",
     "text": [
      "Shape of encoded_total_df: (9509, 118)\n",
      "Shape of encoded_winner_df: (9509, 117)\n"
     ]
    }
   ],
   "source": [
    "print(f\"Shape of encoded_total_df: {new_total_df.shape}\")\n",
    "print(f\"Shape of encoded_winner_df: {new_winner_df.shape}\")"
   ]
  },
  {
   "cell_type": "markdown",
   "metadata": {},
   "source": [
    "# Machine Learning"
   ]
  },
  {
   "cell_type": "code",
   "execution_count": 43,
   "metadata": {},
   "outputs": [],
   "source": [
    "from sklearn.preprocessing import MinMaxScaler, StandardScaler\n",
    "from sklearn.linear_model import LinearRegression\n",
    "from sklearn.tree import DecisionTreeClassifier\n",
    "from sklearn.model_selection import train_test_split\n",
    "from sklearn.metrics import confusion_matrix, accuracy_score, classification_report\n",
    "\n",
    "# Create feature values\n",
    "X_total = new_total_df.drop(columns=['home_points', 'visitor_points', 'total_points', 'home_win'])\n",
    "X_winner = new_winner_df.drop(columns=['home_points', 'visitor_points', 'total_points', 'home_win'])\n",
    "\n",
    "# Create target values\n",
    "y_total = new_total_df['total_points']\n",
    "y_winner = new_winner_df['home_win']\n",
    "\n",
    "# Split training data\n",
    "X_total_train, X_total_test, y_total_train, y_total_test = train_test_split(\n",
    "    X_total, \n",
    "    y_total, \n",
    "    test_size=0.2, \n",
    "    random_state=42\n",
    ")\n",
    "\n",
    "X_winner_train, X_winner_test, y_winner_train, y_winner_test = train_test_split(\n",
    "    X_winner, \n",
    "    y_winner, \n",
    "    test_size=0.2, \n",
    "    random_state=42\n",
    ")\n",
    "\n",
    "# Initiate Scaler\n",
    "scaler = StandardScaler()\n",
    "\n",
    "# Train the classification model (winner predictions)\n",
    "clf_model = DecisionTreeClassifier().fit(X_winner_train, y_winner_train)\n",
    "\n",
    "# Scale training data\n",
    "X_total_train_scaled = scaler.fit_transform(X_total_train)\n",
    "\n",
    "# Train regression model (total prediction)\n",
    "linear_model = LinearRegression().fit(X_total_train_scaled, y_total_train)\n",
    "\n",
    "# Scale the test data\n",
    "X_total_test_scaled = scaler.transform(X_total_test)"
   ]
  },
  {
   "cell_type": "code",
   "execution_count": 44,
   "metadata": {},
   "outputs": [
    {
     "name": "stdout",
     "output_type": "stream",
     "text": [
      "[[917   9]\n",
      " [ 11 965]]\n",
      "              precision    recall  f1-score   support\n",
      "\n",
      "           0       0.99      0.99      0.99       926\n",
      "           1       0.99      0.99      0.99       976\n",
      "\n",
      "    accuracy                           0.99      1902\n",
      "   macro avg       0.99      0.99      0.99      1902\n",
      "weighted avg       0.99      0.99      0.99      1902\n",
      "\n",
      "Accuracy: 0.9894847528916929\n"
     ]
    }
   ],
   "source": [
    "from sklearn.metrics import accuracy_score, confusion_matrix, classification_report # type: ignore\n",
    "\n",
    "# Evaluate the classification model\n",
    "y_winner_pred = clf_model.predict(X_winner_test)\n",
    "print(confusion_matrix(y_winner_test, y_winner_pred))\n",
    "print(classification_report(y_winner_test, y_winner_pred))\n",
    "print(\"Accuracy:\", accuracy_score(y_winner_test, y_winner_pred))\n"
   ]
  },
  {
   "cell_type": "code",
   "execution_count": 45,
   "metadata": {},
   "outputs": [
    {
     "name": "stdout",
     "output_type": "stream",
     "text": [
      "MSE: 0.09779935099966582\n",
      "R2 Score: 0.9997874950083913\n"
     ]
    }
   ],
   "source": [
    "y_total_pred = linear_model.predict(X_total_test_scaled)\n",
    "from sklearn.metrics import mean_squared_error, r2_score\n",
    "print(\"MSE:\", mean_squared_error(y_total_test, y_total_pred))\n",
    "print(\"R2 Score:\", r2_score(y_total_test, y_total_pred))\n"
   ]
  },
  {
   "cell_type": "code",
   "execution_count": 46,
   "metadata": {},
   "outputs": [
    {
     "name": "stdout",
     "output_type": "stream",
     "text": [
      "Cross-Validation Scores: [0.98685594 0.98002103 0.98790747 0.99001052 0.98632299]\n",
      "Mean CV Accuracy: 0.9862235881164985\n"
     ]
    }
   ],
   "source": [
    "from sklearn.model_selection import cross_val_score\n",
    "scores = cross_val_score(clf_model, X_winner, y_winner, cv=5)\n",
    "print(\"Cross-Validation Scores:\", scores)\n",
    "print(\"Mean CV Accuracy:\", scores.mean())\n"
   ]
  },
  {
   "cell_type": "code",
   "execution_count": null,
   "metadata": {},
   "outputs": [
    {
     "name": "stdout",
     "output_type": "stream",
     "text": [
      "Best Parameters: {'max_depth': 20, 'min_samples_leaf': 4, 'min_samples_split': 10}\n"
     ]
    }
   ],
   "source": [
    "# from sklearn.model_selection import GridSearchCV\n",
    "# param_grid = {\n",
    "#     'max_depth': [None, 10, 20, 30],\n",
    "#     'min_samples_split': [2, 5, 10],\n",
    "#     'min_samples_leaf': [1, 2, 4]\n",
    "# }\n",
    "# grid_search = GridSearchCV(DecisionTreeClassifier(), param_grid, cv=5)\n",
    "# grid_search.fit(X_winner_train, y_winner_train)\n",
    "# print(\"Best Parameters:\", grid_search.best_params_)\n"
   ]
  },
  {
   "cell_type": "code",
   "execution_count": 62,
   "metadata": {},
   "outputs": [
    {
     "name": "stdout",
     "output_type": "stream",
     "text": [
      "\n",
      "--- Game Prediction ---\n",
      "Predicted Winner: Toronto Raptors\n"
     ]
    }
   ],
   "source": [
    "# Inputs for the home and visitor teams\n",
    "visitor_team = input(\"Enter Away Team: \")\n",
    "home_team = input(\"Enter Home Team: \")\n",
    "\n",
    "# Create input data with correct features for the models\n",
    "input_data_winner = {col: 0 for col in X_winner.columns}\n",
    "input_data_total = {col: 0 for col in X_total.columns}\n",
    "\n",
    "# Populate the features based on the provided teams\n",
    "if f'home_team_{home_team}' in input_data_winner:\n",
    "    input_data_winner[f'home_team_{home_team}'] = 1\n",
    "if f'visitor_team_{visitor_team}' in input_data_winner:\n",
    "    input_data_winner[f'visitor_team_{visitor_team}'] = 1\n",
    "    \n",
    "    \n",
    "if f'home_team_{home_team}' in input_data_total:\n",
    "    input_data_winner[f'home_team_{home_team}'] = 1    \n",
    "if f'visitor_team_{visitor_team}' in input_data_total:\n",
    "    input_data_winner[f'visitor_team_{visitor_team}'] = 1\n",
    "    \n",
    "# Convert dictionaries to DataFrames\n",
    "input_df_winner = pd.DataFrame([input_data_winner])\n",
    "input_df_total = pd.DataFrame([input_data_total])\n",
    "\n",
    "# Scale the input data for the total points\n",
    "input_df_total_scaled = scaler.transform(input_df_total)\n",
    "\n",
    "# Predict the winner using the classification model\n",
    "predicted_winner = clf_model.predict(input_df_winner)[0]\n",
    "predict_total_points = linear_model.predict(input_df_total_scaled)[0]\n",
    "\n",
    "# Map the winner prediction to the team name\n",
    "winner = home_team if predicted_winner == 1 else visitor_team\n",
    "\n",
    "print(\"\\n--- Game Prediction ---\")\n",
    "print(f\"Predicted Winner: {winner}\")\n",
    "# print(f\"Predicted Total Points: {round(predict_total_points, 0)}\")\n"
   ]
  }
 ],
 "metadata": {
  "kernelspec": {
   "display_name": "base",
   "language": "python",
   "name": "python3"
  },
  "language_info": {
   "codemirror_mode": {
    "name": "ipython",
    "version": 3
   },
   "file_extension": ".py",
   "mimetype": "text/x-python",
   "name": "python",
   "nbconvert_exporter": "python",
   "pygments_lexer": "ipython3",
   "version": "3.12.4"
  }
 },
 "nbformat": 4,
 "nbformat_minor": 2
}

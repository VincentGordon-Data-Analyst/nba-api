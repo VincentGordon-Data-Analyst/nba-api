{
 "cells": [
  {
   "cell_type": "code",
   "execution_count": null,
   "metadata": {},
   "outputs": [],
   "source": []
  },
  {
   "cell_type": "code",
   "execution_count": null,
   "metadata": {},
   "outputs": [],
   "source": []
  },
  {
   "cell_type": "code",
   "execution_count": null,
   "metadata": {},
   "outputs": [],
   "source": []
  },
  {
   "cell_type": "code",
   "execution_count": null,
   "metadata": {},
   "outputs": [],
   "source": []
  },
  {
   "cell_type": "code",
   "execution_count": null,
   "metadata": {},
   "outputs": [],
   "source": [
    "# # Unified dataframe\n",
    "# df = ...  # Your complete preprocessed dataframe\n",
    "\n",
    "# # Winner Prediction\n",
    "# df_winner = df[['home_points', 'visitor_points', 'points_diff', 'rebounds_diff', 'turnovers_diff', 'home_win']]\n",
    "\n",
    "# # Total Points Prediction\n",
    "# df_total_points = df[['home_points', 'visitor_points', 'home_fga', 'visitor_fga', 'home_fta', 'visitor_fta', 'total_points']]\n",
    "\n",
    "# # Splitting into X and y for each task\n",
    "# X_winner = df_winner.drop(columns=['home_win'])\n",
    "# y_winner = df_winner['home_win']\n",
    "\n",
    "# X_points = df_total_points.drop(columns=['total_points'])\n",
    "# y_points = df_total_points['total_points']\n"
   ]
  }
 ],
 "metadata": {
  "language_info": {
   "name": "python"
  }
 },
 "nbformat": 4,
 "nbformat_minor": 2
}

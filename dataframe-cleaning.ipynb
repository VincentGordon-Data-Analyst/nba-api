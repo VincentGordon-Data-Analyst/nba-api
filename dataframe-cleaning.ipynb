{
 "cells": [
  {
   "cell_type": "code",
   "execution_count": 507,
   "metadata": {},
   "outputs": [],
   "source": [
    "import pandas as pd\n",
    "import seaborn as sns\n",
    "import matplotlib.pyplot as plt\n",
    "import datetime as dt\n",
    "import statistics\n",
    "import time\n",
    "\n",
    "# to ignore the warnings\n",
    "from warnings import filterwarnings"
   ]
  },
  {
   "cell_type": "markdown",
   "metadata": {},
   "source": [
    "# Data From API"
   ]
  },
  {
   "cell_type": "code",
   "execution_count": 508,
   "metadata": {},
   "outputs": [
    {
     "data": {
      "text/html": [
       "<div>\n",
       "<style scoped>\n",
       "    .dataframe tbody tr th:only-of-type {\n",
       "        vertical-align: middle;\n",
       "    }\n",
       "\n",
       "    .dataframe tbody tr th {\n",
       "        vertical-align: top;\n",
       "    }\n",
       "\n",
       "    .dataframe thead th {\n",
       "        text-align: right;\n",
       "    }\n",
       "</style>\n",
       "<table border=\"1\" class=\"dataframe\">\n",
       "  <thead>\n",
       "    <tr style=\"text-align: right;\">\n",
       "      <th></th>\n",
       "      <th>date</th>\n",
       "      <th>visitor</th>\n",
       "      <th>home</th>\n",
       "      <th>visitor_points</th>\n",
       "      <th>home_points</th>\n",
       "    </tr>\n",
       "  </thead>\n",
       "  <tbody>\n",
       "    <tr>\n",
       "      <th>0</th>\n",
       "      <td>2015-11-25T01:00:00.000Z</td>\n",
       "      <td>Boston Celtics</td>\n",
       "      <td>Atlanta Hawks</td>\n",
       "      <td>97.0</td>\n",
       "      <td>121.0</td>\n",
       "    </tr>\n",
       "    <tr>\n",
       "      <th>1</th>\n",
       "      <td>2016-04-09T23:30:00.000Z</td>\n",
       "      <td>Boston Celtics</td>\n",
       "      <td>Atlanta Hawks</td>\n",
       "      <td>107.0</td>\n",
       "      <td>118.0</td>\n",
       "    </tr>\n",
       "    <tr>\n",
       "      <th>2</th>\n",
       "      <td>2016-04-16T23:00:00.000Z</td>\n",
       "      <td>Boston Celtics</td>\n",
       "      <td>Atlanta Hawks</td>\n",
       "      <td>101.0</td>\n",
       "      <td>102.0</td>\n",
       "    </tr>\n",
       "    <tr>\n",
       "      <th>3</th>\n",
       "      <td>2016-04-19T23:00:00.000Z</td>\n",
       "      <td>Boston Celtics</td>\n",
       "      <td>Atlanta Hawks</td>\n",
       "      <td>72.0</td>\n",
       "      <td>89.0</td>\n",
       "    </tr>\n",
       "    <tr>\n",
       "      <th>4</th>\n",
       "      <td>2016-04-27T00:30:00.000Z</td>\n",
       "      <td>Boston Celtics</td>\n",
       "      <td>Atlanta Hawks</td>\n",
       "      <td>83.0</td>\n",
       "      <td>110.0</td>\n",
       "    </tr>\n",
       "  </tbody>\n",
       "</table>\n",
       "</div>"
      ],
      "text/plain": [
       "                       date         visitor           home  visitor_points  \\\n",
       "0  2015-11-25T01:00:00.000Z  Boston Celtics  Atlanta Hawks            97.0   \n",
       "1  2016-04-09T23:30:00.000Z  Boston Celtics  Atlanta Hawks           107.0   \n",
       "2  2016-04-16T23:00:00.000Z  Boston Celtics  Atlanta Hawks           101.0   \n",
       "3  2016-04-19T23:00:00.000Z  Boston Celtics  Atlanta Hawks            72.0   \n",
       "4  2016-04-27T00:30:00.000Z  Boston Celtics  Atlanta Hawks            83.0   \n",
       "\n",
       "   home_points  \n",
       "0        121.0  \n",
       "1        118.0  \n",
       "2        102.0  \n",
       "3         89.0  \n",
       "4        110.0  "
      ]
     },
     "execution_count": 508,
     "metadata": {},
     "output_type": "execute_result"
    }
   ],
   "source": [
    "scores_df = pd.read_excel('./data/game_scores.xlsx')\n",
    "scores_df.head()"
   ]
  },
  {
   "cell_type": "code",
   "execution_count": 509,
   "metadata": {},
   "outputs": [
    {
     "name": "stdout",
     "output_type": "stream",
     "text": [
      "<class 'pandas.core.frame.DataFrame'>\n",
      "RangeIndex: 14242 entries, 0 to 14241\n",
      "Data columns (total 5 columns):\n",
      " #   Column          Non-Null Count  Dtype  \n",
      "---  ------          --------------  -----  \n",
      " 0   date            14242 non-null  object \n",
      " 1   visitor         14242 non-null  object \n",
      " 2   home            14242 non-null  object \n",
      " 3   visitor_points  12796 non-null  float64\n",
      " 4   home_points     12796 non-null  float64\n",
      "dtypes: float64(2), object(3)\n",
      "memory usage: 556.5+ KB\n"
     ]
    }
   ],
   "source": [
    "scores_df.info()"
   ]
  },
  {
   "cell_type": "code",
   "execution_count": 510,
   "metadata": {},
   "outputs": [
    {
     "data": {
      "text/plain": [
       "array(['Boston Celtics', 'Atlanta Hawks', 'Brooklyn Nets',\n",
       "       'Charlotte Hornets', 'Chicago Bulls', 'Cleveland Cavaliers',\n",
       "       'Dallas Mavericks', 'Denver Nuggets', 'Detroit Pistons',\n",
       "       'Golden State Warriors', 'Houston Rockets', 'Indiana Pacers',\n",
       "       'LA Clippers', 'Los Angeles Lakers', 'Memphis Grizzlies',\n",
       "       'Miami Heat', 'Milwaukee Bucks', 'Minnesota Timberwolves',\n",
       "       'New Orleans Pelicans', 'New York Knicks', 'Oklahoma City Thunder',\n",
       "       'Orlando Magic', 'Philadelphia 76ers', 'Phoenix Suns',\n",
       "       'Portland Trail Blazers', 'Sacramento Kings', 'San Antonio Spurs',\n",
       "       'Toronto Raptors', 'Utah Jazz', 'Washington Wizards'], dtype=object)"
      ]
     },
     "execution_count": 510,
     "metadata": {},
     "output_type": "execute_result"
    }
   ],
   "source": [
    "scores_df['visitor'].unique()"
   ]
  },
  {
   "cell_type": "markdown",
   "metadata": {},
   "source": [
    "# Date Correction"
   ]
  },
  {
   "cell_type": "code",
   "execution_count": 511,
   "metadata": {},
   "outputs": [
    {
     "data": {
      "text/html": [
       "<div>\n",
       "<style scoped>\n",
       "    .dataframe tbody tr th:only-of-type {\n",
       "        vertical-align: middle;\n",
       "    }\n",
       "\n",
       "    .dataframe tbody tr th {\n",
       "        vertical-align: top;\n",
       "    }\n",
       "\n",
       "    .dataframe thead th {\n",
       "        text-align: right;\n",
       "    }\n",
       "</style>\n",
       "<table border=\"1\" class=\"dataframe\">\n",
       "  <thead>\n",
       "    <tr style=\"text-align: right;\">\n",
       "      <th></th>\n",
       "      <th>date</th>\n",
       "      <th>visitor</th>\n",
       "      <th>home</th>\n",
       "      <th>visitor_points</th>\n",
       "      <th>home_points</th>\n",
       "    </tr>\n",
       "  </thead>\n",
       "  <tbody>\n",
       "    <tr>\n",
       "      <th>0</th>\n",
       "      <td>2015-11-24</td>\n",
       "      <td>Boston Celtics</td>\n",
       "      <td>Atlanta Hawks</td>\n",
       "      <td>97.0</td>\n",
       "      <td>121.0</td>\n",
       "    </tr>\n",
       "    <tr>\n",
       "      <th>1</th>\n",
       "      <td>2016-04-09</td>\n",
       "      <td>Boston Celtics</td>\n",
       "      <td>Atlanta Hawks</td>\n",
       "      <td>107.0</td>\n",
       "      <td>118.0</td>\n",
       "    </tr>\n",
       "    <tr>\n",
       "      <th>2</th>\n",
       "      <td>2016-04-16</td>\n",
       "      <td>Boston Celtics</td>\n",
       "      <td>Atlanta Hawks</td>\n",
       "      <td>101.0</td>\n",
       "      <td>102.0</td>\n",
       "    </tr>\n",
       "    <tr>\n",
       "      <th>3</th>\n",
       "      <td>2016-04-19</td>\n",
       "      <td>Boston Celtics</td>\n",
       "      <td>Atlanta Hawks</td>\n",
       "      <td>72.0</td>\n",
       "      <td>89.0</td>\n",
       "    </tr>\n",
       "    <tr>\n",
       "      <th>4</th>\n",
       "      <td>2016-04-26</td>\n",
       "      <td>Boston Celtics</td>\n",
       "      <td>Atlanta Hawks</td>\n",
       "      <td>83.0</td>\n",
       "      <td>110.0</td>\n",
       "    </tr>\n",
       "  </tbody>\n",
       "</table>\n",
       "</div>"
      ],
      "text/plain": [
       "         date         visitor           home  visitor_points  home_points\n",
       "0  2015-11-24  Boston Celtics  Atlanta Hawks            97.0        121.0\n",
       "1  2016-04-09  Boston Celtics  Atlanta Hawks           107.0        118.0\n",
       "2  2016-04-16  Boston Celtics  Atlanta Hawks           101.0        102.0\n",
       "3  2016-04-19  Boston Celtics  Atlanta Hawks            72.0         89.0\n",
       "4  2016-04-26  Boston Celtics  Atlanta Hawks            83.0        110.0"
      ]
     },
     "execution_count": 511,
     "metadata": {},
     "output_type": "execute_result"
    }
   ],
   "source": [
    "# From this dataframe it is found that games where the dates are in the morning are previous day games\n",
    "# These games will have to be adjusted to match actual game schedules \n",
    "\n",
    "# 1. Convert date column to datetime\n",
    "scores_df['date'] = pd.to_datetime(scores_df['date'], errors='coerce')\n",
    "\n",
    "# 2. Find days between 12 am and 3 am and subtract one day for each row (row count started to change from 3am to 4am, 3am was the limit)\n",
    "scores_df.loc[scores_df['date'].dt.hour.between(0, 3), 'date'] -= pd.Timedelta(days=1)\n",
    "\n",
    "# 3.Format the 'date' column to show only the date portion (year-month-day)\n",
    "scores_df['date'] = scores_df['date'].dt.strftime('%Y-%m-%d')\n",
    "\n",
    "# Display\n",
    "scores_df.head()"
   ]
  },
  {
   "cell_type": "code",
   "execution_count": 512,
   "metadata": {},
   "outputs": [
    {
     "name": "stdout",
     "output_type": "stream",
     "text": [
      "34 duplicated rows have been dropped.\n"
     ]
    }
   ],
   "source": [
    "# Find total amount of duplicated rows\n",
    "duplicate_count = scores_df.duplicated().sum()\n",
    "\n",
    "# Drop duplicated rows\n",
    "scores_df = scores_df.drop_duplicates()\n",
    "print(f\"{duplicate_count} duplicated rows have been dropped.\")"
   ]
  },
  {
   "cell_type": "code",
   "execution_count": 513,
   "metadata": {},
   "outputs": [
    {
     "data": {
      "text/plain": [
       "date               283\n",
       "visitor              0\n",
       "home                 0\n",
       "visitor_points    1412\n",
       "home_points       1412\n",
       "dtype: int64"
      ]
     },
     "execution_count": 513,
     "metadata": {},
     "output_type": "execute_result"
    }
   ],
   "source": [
    "scores_df.isnull().sum()"
   ]
  },
  {
   "cell_type": "code",
   "execution_count": 514,
   "metadata": {},
   "outputs": [
    {
     "data": {
      "text/html": [
       "<div>\n",
       "<style scoped>\n",
       "    .dataframe tbody tr th:only-of-type {\n",
       "        vertical-align: middle;\n",
       "    }\n",
       "\n",
       "    .dataframe tbody tr th {\n",
       "        vertical-align: top;\n",
       "    }\n",
       "\n",
       "    .dataframe thead th {\n",
       "        text-align: right;\n",
       "    }\n",
       "</style>\n",
       "<table border=\"1\" class=\"dataframe\">\n",
       "  <thead>\n",
       "    <tr style=\"text-align: right;\">\n",
       "      <th></th>\n",
       "      <th>date</th>\n",
       "      <th>visitor</th>\n",
       "      <th>home</th>\n",
       "      <th>visitor_points</th>\n",
       "      <th>home_points</th>\n",
       "    </tr>\n",
       "  </thead>\n",
       "  <tbody>\n",
       "    <tr>\n",
       "      <th>46</th>\n",
       "      <td>2024-11-12</td>\n",
       "      <td>Atlanta Hawks</td>\n",
       "      <td>Boston Celtics</td>\n",
       "      <td>NaN</td>\n",
       "      <td>NaN</td>\n",
       "    </tr>\n",
       "    <tr>\n",
       "      <th>47</th>\n",
       "      <td>2025-01-18</td>\n",
       "      <td>Atlanta Hawks</td>\n",
       "      <td>Boston Celtics</td>\n",
       "      <td>NaN</td>\n",
       "      <td>NaN</td>\n",
       "    </tr>\n",
       "    <tr>\n",
       "      <th>82</th>\n",
       "      <td>2025-03-16</td>\n",
       "      <td>Atlanta Hawks</td>\n",
       "      <td>Brooklyn Nets</td>\n",
       "      <td>NaN</td>\n",
       "      <td>NaN</td>\n",
       "    </tr>\n",
       "    <tr>\n",
       "      <th>83</th>\n",
       "      <td>2025-04-10</td>\n",
       "      <td>Atlanta Hawks</td>\n",
       "      <td>Brooklyn Nets</td>\n",
       "      <td>NaN</td>\n",
       "      <td>NaN</td>\n",
       "    </tr>\n",
       "    <tr>\n",
       "      <th>92</th>\n",
       "      <td>NaN</td>\n",
       "      <td>Charlotte Hornets</td>\n",
       "      <td>Atlanta Hawks</td>\n",
       "      <td>NaN</td>\n",
       "      <td>NaN</td>\n",
       "    </tr>\n",
       "    <tr>\n",
       "      <th>...</th>\n",
       "      <td>...</td>\n",
       "      <td>...</td>\n",
       "      <td>...</td>\n",
       "      <td>...</td>\n",
       "      <td>...</td>\n",
       "    </tr>\n",
       "    <tr>\n",
       "      <th>14210</th>\n",
       "      <td>NaN</td>\n",
       "      <td>Toronto Raptors</td>\n",
       "      <td>Washington Wizards</td>\n",
       "      <td>NaN</td>\n",
       "      <td>NaN</td>\n",
       "    </tr>\n",
       "    <tr>\n",
       "      <th>14220</th>\n",
       "      <td>2025-01-29</td>\n",
       "      <td>Toronto Raptors</td>\n",
       "      <td>Washington Wizards</td>\n",
       "      <td>NaN</td>\n",
       "      <td>NaN</td>\n",
       "    </tr>\n",
       "    <tr>\n",
       "      <th>14221</th>\n",
       "      <td>2025-03-24</td>\n",
       "      <td>Toronto Raptors</td>\n",
       "      <td>Washington Wizards</td>\n",
       "      <td>NaN</td>\n",
       "      <td>NaN</td>\n",
       "    </tr>\n",
       "    <tr>\n",
       "      <th>14231</th>\n",
       "      <td>2025-03-05</td>\n",
       "      <td>Utah Jazz</td>\n",
       "      <td>Washington Wizards</td>\n",
       "      <td>NaN</td>\n",
       "      <td>NaN</td>\n",
       "    </tr>\n",
       "    <tr>\n",
       "      <th>14241</th>\n",
       "      <td>2025-01-23</td>\n",
       "      <td>Washington Wizards</td>\n",
       "      <td>Utah Jazz</td>\n",
       "      <td>NaN</td>\n",
       "      <td>NaN</td>\n",
       "    </tr>\n",
       "  </tbody>\n",
       "</table>\n",
       "<p>1412 rows × 5 columns</p>\n",
       "</div>"
      ],
      "text/plain": [
       "             date             visitor                home  visitor_points  \\\n",
       "46     2024-11-12       Atlanta Hawks      Boston Celtics             NaN   \n",
       "47     2025-01-18       Atlanta Hawks      Boston Celtics             NaN   \n",
       "82     2025-03-16       Atlanta Hawks       Brooklyn Nets             NaN   \n",
       "83     2025-04-10       Atlanta Hawks       Brooklyn Nets             NaN   \n",
       "92            NaN   Charlotte Hornets       Atlanta Hawks             NaN   \n",
       "...           ...                 ...                 ...             ...   \n",
       "14210         NaN     Toronto Raptors  Washington Wizards             NaN   \n",
       "14220  2025-01-29     Toronto Raptors  Washington Wizards             NaN   \n",
       "14221  2025-03-24     Toronto Raptors  Washington Wizards             NaN   \n",
       "14231  2025-03-05           Utah Jazz  Washington Wizards             NaN   \n",
       "14241  2025-01-23  Washington Wizards           Utah Jazz             NaN   \n",
       "\n",
       "       home_points  \n",
       "46             NaN  \n",
       "47             NaN  \n",
       "82             NaN  \n",
       "83             NaN  \n",
       "92             NaN  \n",
       "...            ...  \n",
       "14210          NaN  \n",
       "14220          NaN  \n",
       "14221          NaN  \n",
       "14231          NaN  \n",
       "14241          NaN  \n",
       "\n",
       "[1412 rows x 5 columns]"
      ]
     },
     "execution_count": 514,
     "metadata": {},
     "output_type": "execute_result"
    }
   ],
   "source": [
    "scores_df[scores_df.isnull().any(axis=1)]"
   ]
  },
  {
   "cell_type": "code",
   "execution_count": 515,
   "metadata": {},
   "outputs": [
    {
     "name": "stdout",
     "output_type": "stream",
     "text": [
      "<class 'pandas.core.frame.DataFrame'>\n",
      "Index: 12796 entries, 0 to 14240\n",
      "Data columns (total 5 columns):\n",
      " #   Column          Non-Null Count  Dtype  \n",
      "---  ------          --------------  -----  \n",
      " 0   date            12796 non-null  object \n",
      " 1   visitor         12796 non-null  object \n",
      " 2   home            12796 non-null  object \n",
      " 3   visitor_points  12796 non-null  float64\n",
      " 4   home_points     12796 non-null  float64\n",
      "dtypes: float64(2), object(3)\n",
      "memory usage: 599.8+ KB\n"
     ]
    }
   ],
   "source": [
    "# Drop all rows that have null values\n",
    "api_df = scores_df.dropna()\n",
    "\n",
    "# Display\n",
    "api_df.info()"
   ]
  },
  {
   "cell_type": "code",
   "execution_count": 516,
   "metadata": {},
   "outputs": [],
   "source": [
    "# Export to excel file\n",
    "api_df.to_csv(f'./data/2015-2024_apiGamesScores.csv', index=False)"
   ]
  }
 ],
 "metadata": {
  "kernelspec": {
   "display_name": "Python 3",
   "language": "python",
   "name": "python3"
  },
  "language_info": {
   "codemirror_mode": {
    "name": "ipython",
    "version": 3
   },
   "file_extension": ".py",
   "mimetype": "text/x-python",
   "name": "python",
   "nbconvert_exporter": "python",
   "pygments_lexer": "ipython3",
   "version": "3.12.4"
  }
 },
 "nbformat": 4,
 "nbformat_minor": 4
}
